{
 "cells": [
  {
   "cell_type": "code",
   "execution_count": 19,
   "metadata": {},
   "outputs": [],
   "source": [
    "# Dependencies and Setup\n",
    "import pandas as pd\n",
    "import numpy as np"
   ]
  },
  {
   "cell_type": "code",
   "execution_count": 20,
   "metadata": {},
   "outputs": [],
   "source": [
    "# File to Load (Remember to Change These)\n",
    "file_to_load = \"C:\\\\Users\\\\USER\\\\Desktop\\\\pandas-challenge\\\\Resources HerosOfPymoli\\\\04-Pandas_Homework_Instructions_HeroesOfPymoli_Resources_purchase_data.csv\""
   ]
  },
  {
   "cell_type": "code",
   "execution_count": 21,
   "metadata": {},
   "outputs": [],
   "source": [
    "# Read Purchasing File and store into Pandas data frame\n",
    "purchase_data = pd.read_csv(file_to_load)"
   ]
  },
  {
   "cell_type": "markdown",
   "metadata": {},
   "source": [
    "# Player Count"
   ]
  },
  {
   "cell_type": "code",
   "execution_count": 105,
   "metadata": {},
   "outputs": [
    {
     "data": {
      "text/html": [
       "<style  type=\"text/css\" >\n",
       "</style><table id=\"T_5bf11ebb_988d_11eb_a477_18dbf21eb351\" ><thead>    <tr>        <th class=\"col_heading level0 col0\" >Player Count</th>    </tr></thead><tbody>\n",
       "                <tr>\n",
       "                                <td id=\"T_5bf11ebb_988d_11eb_a477_18dbf21eb351row0_col0\" class=\"data row0 col0\" >576</td>\n",
       "            </tr>\n",
       "    </tbody></table>"
      ],
      "text/plain": [
       "<pandas.io.formats.style.Styler at 0x257dac01cd0>"
      ]
     },
     "execution_count": 105,
     "metadata": {},
     "output_type": "execute_result"
    }
   ],
   "source": [
    "# Count total Number of Players should be 780\n",
    "#Create summary DF \n",
    "#PURCHASE_DATA IS ALREDY A DF B/C IT READ IN AS ONE\n",
    "player_count=purchase_data[\"SN\"].nunique()\n",
    "player_count_df = pd.DataFrame({\"Player Count\" : [player_count]})\n",
    "player_count_df\n",
    "player_count_df.style.hide_index()"
   ]
  },
  {
   "cell_type": "markdown",
   "metadata": {},
   "source": [
    "# Purchasing Analysis (Total)"
   ]
  },
  {
   "cell_type": "code",
   "execution_count": 106,
   "metadata": {},
   "outputs": [
    {
     "data": {
      "text/html": [
       "<style  type=\"text/css\" >\n",
       "</style><table id=\"T_6449608f_988d_11eb_91cf_18dbf21eb351\" ><thead>    <tr>        <th class=\"col_heading level0 col0\" >Num. Unique Items</th>        <th class=\"col_heading level0 col1\" >Avg. Purchase Price</th>        <th class=\"col_heading level0 col2\" >Total Num. Purchases</th>        <th class=\"col_heading level0 col3\" >Total Revenue</th>    </tr></thead><tbody>\n",
       "                <tr>\n",
       "                                <td id=\"T_6449608f_988d_11eb_91cf_18dbf21eb351row0_col0\" class=\"data row0 col0\" >179</td>\n",
       "                        <td id=\"T_6449608f_988d_11eb_91cf_18dbf21eb351row0_col1\" class=\"data row0 col1\" >$3.05</td>\n",
       "                        <td id=\"T_6449608f_988d_11eb_91cf_18dbf21eb351row0_col2\" class=\"data row0 col2\" >780</td>\n",
       "                        <td id=\"T_6449608f_988d_11eb_91cf_18dbf21eb351row0_col3\" class=\"data row0 col3\" >$2,379.77</td>\n",
       "            </tr>\n",
       "    </tbody></table>"
      ],
      "text/plain": [
       "<pandas.io.formats.style.Styler at 0x257dacfd160>"
      ]
     },
     "execution_count": 106,
     "metadata": {},
     "output_type": "execute_result"
    }
   ],
   "source": [
    "#Purchasing Analysis (Total): \n",
    "#Number of Unique Items should be 179\n",
    "#Average Purchase Price should be 3.05\n",
    "#Total Number of Purchases should be 780\n",
    "#Total Revenue should be 2379.77\n",
    "#Create summary DF \n",
    "pat_numunique=purchase_data[\"Item ID\"].nunique()\n",
    "pat_avgpurch=purchase_data[\"Price\"].mean()\n",
    "pat_totalnumpurch=purchase_data[\"Purchase ID\"].count()\n",
    "pat_totalrev=purchase_data[\"Price\"].sum()\n",
    "pat_summary_df = pd.DataFrame({\"Num. Unique Items\" : [pat_numunique],\n",
    "                           \"Avg. Purchase Price\" : [pat_avgpurch], \n",
    "                           \"Total Num. Purchases\" : [pat_totalnumpurch],\n",
    "                           \"Total Revenue\" : [pat_totalrev]})\n",
    "\n",
    "pat_summary_df[\"Avg. Purchase Price\"]=pat_summary_df[\"Avg. Purchase Price\"].map(\"${:,.2f}\".format)\n",
    "pat_summary_df[\"Total Revenue\"]=pat_summary_df[\"Total Revenue\"].map(\"${:,.2f}\".format)\n",
    "pat_summary_df\n",
    "pat_summary_df.style.hide_index()"
   ]
  },
  {
   "cell_type": "markdown",
   "metadata": {},
   "source": [
    "# Gender Demographics"
   ]
  },
  {
   "cell_type": "code",
   "execution_count": 109,
   "metadata": {},
   "outputs": [
    {
     "data": {
      "text/html": [
       "<div>\n",
       "<style scoped>\n",
       "    .dataframe tbody tr th:only-of-type {\n",
       "        vertical-align: middle;\n",
       "    }\n",
       "\n",
       "    .dataframe tbody tr th {\n",
       "        vertical-align: top;\n",
       "    }\n",
       "\n",
       "    .dataframe thead th {\n",
       "        text-align: right;\n",
       "    }\n",
       "</style>\n",
       "<table border=\"1\" class=\"dataframe\">\n",
       "  <thead>\n",
       "    <tr style=\"text-align: right;\">\n",
       "      <th></th>\n",
       "      <th>Total Count</th>\n",
       "      <th>Perct. Players</th>\n",
       "    </tr>\n",
       "  </thead>\n",
       "  <tbody>\n",
       "    <tr>\n",
       "      <th>Male</th>\n",
       "      <td>484</td>\n",
       "      <td>84.03%</td>\n",
       "    </tr>\n",
       "    <tr>\n",
       "      <th>Female</th>\n",
       "      <td>81</td>\n",
       "      <td>14.06%</td>\n",
       "    </tr>\n",
       "    <tr>\n",
       "      <th>Other / Non-Disclosed</th>\n",
       "      <td>11</td>\n",
       "      <td>1.91%</td>\n",
       "    </tr>\n",
       "  </tbody>\n",
       "</table>\n",
       "</div>"
      ],
      "text/plain": [
       "                       Total Count Perct. Players\n",
       "Male                           484         84.03%\n",
       "Female                          81         14.06%\n",
       "Other / Non-Disclosed           11          1.91%"
      ]
     },
     "execution_count": 109,
     "metadata": {},
     "output_type": "execute_result"
    }
   ],
   "source": [
    "#Gender Demographics\n",
    "#Percentage and Count of Male Players YOU HAVE TO COUNT UNIQUE # MALE PLAYERS - COMBINE SN (unique ID) and GENDER!\n",
    "#SHOULD BE males 484 (84.02%), females 81 (14.06%), other 11 (1.90%)\n",
    "#Percentage and Count of Female Players\n",
    "#Percentage and Count of Other / Non-Disclosed\n",
    "#Create summary DF \n",
    "gd_gender=purchase_data.groupby(\"Gender\")\n",
    "gd_gender_count=gd_gender[\"SN\"].nunique()\n",
    "gd_pct_players=gd_gender_count/player_count *100\n",
    "gd_summary_df = pd.DataFrame({\"Total Count\" : gd_gender_count, \n",
    "                             \"Perct. Players\" : gd_pct_players})\n",
    "gd_summary_df.index.name = None\n",
    "gd_summary_df[\"Perct. Players\"]=gd_summary_df[\"Perct. Players\"].map(\"{:.2f}%\".format)\n",
    "gd_summary_df.sort_values([\"Total Count\"], ascending = False)"
   ]
  },
  {
   "cell_type": "markdown",
   "metadata": {},
   "source": [
    "# Purchasing Analysis (Gender)"
   ]
  },
  {
   "cell_type": "code",
   "execution_count": 102,
   "metadata": {},
   "outputs": [
    {
     "data": {
      "text/html": [
       "<div>\n",
       "<style scoped>\n",
       "    .dataframe tbody tr th:only-of-type {\n",
       "        vertical-align: middle;\n",
       "    }\n",
       "\n",
       "    .dataframe tbody tr th {\n",
       "        vertical-align: top;\n",
       "    }\n",
       "\n",
       "    .dataframe thead th {\n",
       "        text-align: right;\n",
       "    }\n",
       "</style>\n",
       "<table border=\"1\" class=\"dataframe\">\n",
       "  <thead>\n",
       "    <tr style=\"text-align: right;\">\n",
       "      <th></th>\n",
       "      <th>Purchase Count</th>\n",
       "      <th>Avg. Purchase Price</th>\n",
       "      <th>Total Purchase Value</th>\n",
       "      <th>Avg. Total Purchase Per Person</th>\n",
       "    </tr>\n",
       "  </thead>\n",
       "  <tbody>\n",
       "    <tr>\n",
       "      <th>Male</th>\n",
       "      <td>652</td>\n",
       "      <td>$3.02</td>\n",
       "      <td>$1,967.64</td>\n",
       "      <td>$4.07</td>\n",
       "    </tr>\n",
       "    <tr>\n",
       "      <th>Female</th>\n",
       "      <td>113</td>\n",
       "      <td>$3.20</td>\n",
       "      <td>$361.94</td>\n",
       "      <td>$4.47</td>\n",
       "    </tr>\n",
       "    <tr>\n",
       "      <th>Other / Non-Disclosed</th>\n",
       "      <td>15</td>\n",
       "      <td>$3.35</td>\n",
       "      <td>$50.19</td>\n",
       "      <td>$4.56</td>\n",
       "    </tr>\n",
       "  </tbody>\n",
       "</table>\n",
       "</div>"
      ],
      "text/plain": [
       "                       Purchase Count Avg. Purchase Price  \\\n",
       "Male                              652               $3.02   \n",
       "Female                            113               $3.20   \n",
       "Other / Non-Disclosed              15               $3.35   \n",
       "\n",
       "                      Total Purchase Value Avg. Total Purchase Per Person  \n",
       "Male                             $1,967.64                          $4.07  \n",
       "Female                             $361.94                          $4.47  \n",
       "Other / Non-Disclosed               $50.19                          $4.56  "
      ]
     },
     "execution_count": 102,
     "metadata": {},
     "output_type": "execute_result"
    }
   ],
   "source": [
    "#Purchasing Analysis (Gender):\n",
    "#The below each broken by gender:\n",
    "    #Purchase Count (should be male 652, female 113, other 15)\n",
    "    #Average Purchase Price (should be male 3.20, female 3.17, other 3.35)\n",
    "    #Total Purchase Value (should be male 1967.64, female 361.94, other 50.19)\n",
    "    #Average Purchase Total per Person by Gender (should be male 4.07, female 4.47, other 4.56)\n",
    "    #Create summary DF \n",
    "pag_purchase_count = gd_gender[\"Purchase ID\"].count()\n",
    "pag_avgpurch = gd_gender[\"Price\"].mean()\n",
    "pag_totalrev=gd_gender[\"Price\"].sum()\n",
    "pag_avgtotal=pag_totalrev/gd_gender_count\n",
    "pag_summary_df = pd.DataFrame({\"Purchase Count\" : pag_purchase_count, \n",
    "                              \"Avg. Purchase Price\" : pag_avgpurch, \n",
    "                              \"Total Purchase Value\" : pag_totalrev, \n",
    "                              \"Avg. Total Purchase Per Person\" : pag_avgtotal})\n",
    "\n",
    "pag_summary_df[\"Avg. Purchase Price\"]=pag_summary_df[\"Avg. Purchase Price\"].map(\"${:,.2f}\".format)\n",
    "pag_summary_df[\"Total Purchase Value\"]=pag_summary_df[\"Total Purchase Value\"].map(\"${:,.2f}\".format)\n",
    "pag_summary_df[\"Avg. Total Purchase Per Person\"]=pag_summary_df[\"Avg. Total Purchase Per Person\"].map(\"${:,.2f}\".format)\n",
    "pag_summary_df.sort_values(by=\"Purchase Count\", ascending = False)"
   ]
  },
  {
   "cell_type": "markdown",
   "metadata": {},
   "source": [
    "# Age Demographics"
   ]
  },
  {
   "cell_type": "code",
   "execution_count": 120,
   "metadata": {},
   "outputs": [
    {
     "data": {
      "text/html": [
       "<div>\n",
       "<style scoped>\n",
       "    .dataframe tbody tr th:only-of-type {\n",
       "        vertical-align: middle;\n",
       "    }\n",
       "\n",
       "    .dataframe tbody tr th {\n",
       "        vertical-align: top;\n",
       "    }\n",
       "\n",
       "    .dataframe thead th {\n",
       "        text-align: right;\n",
       "    }\n",
       "</style>\n",
       "<table border=\"1\" class=\"dataframe\">\n",
       "  <thead>\n",
       "    <tr style=\"text-align: right;\">\n",
       "      <th></th>\n",
       "      <th>Total Count</th>\n",
       "      <th>Percentage of Players</th>\n",
       "    </tr>\n",
       "    <tr>\n",
       "      <th>Age Group</th>\n",
       "      <th></th>\n",
       "      <th></th>\n",
       "    </tr>\n",
       "  </thead>\n",
       "  <tbody>\n",
       "    <tr>\n",
       "      <th>&lt;10</th>\n",
       "      <td>17</td>\n",
       "      <td>2.95%</td>\n",
       "    </tr>\n",
       "    <tr>\n",
       "      <th>10-14</th>\n",
       "      <td>22</td>\n",
       "      <td>3.82%</td>\n",
       "    </tr>\n",
       "    <tr>\n",
       "      <th>15-19</th>\n",
       "      <td>107</td>\n",
       "      <td>18.58%</td>\n",
       "    </tr>\n",
       "    <tr>\n",
       "      <th>20-24</th>\n",
       "      <td>258</td>\n",
       "      <td>44.79%</td>\n",
       "    </tr>\n",
       "    <tr>\n",
       "      <th>25-29</th>\n",
       "      <td>77</td>\n",
       "      <td>13.37%</td>\n",
       "    </tr>\n",
       "    <tr>\n",
       "      <th>30-34</th>\n",
       "      <td>52</td>\n",
       "      <td>9.03%</td>\n",
       "    </tr>\n",
       "    <tr>\n",
       "      <th>35-39</th>\n",
       "      <td>31</td>\n",
       "      <td>5.38%</td>\n",
       "    </tr>\n",
       "    <tr>\n",
       "      <th>40+</th>\n",
       "      <td>12</td>\n",
       "      <td>2.08%</td>\n",
       "    </tr>\n",
       "  </tbody>\n",
       "</table>\n",
       "</div>"
      ],
      "text/plain": [
       "           Total Count Percentage of Players\n",
       "Age Group                                   \n",
       "<10                 17                 2.95%\n",
       "10-14               22                 3.82%\n",
       "15-19              107                18.58%\n",
       "20-24              258                44.79%\n",
       "25-29               77                13.37%\n",
       "30-34               52                 9.03%\n",
       "35-39               31                 5.38%\n",
       "40+                 12                 2.08%"
      ]
     },
     "execution_count": 120,
     "metadata": {},
     "output_type": "execute_result"
    }
   ],
   "source": [
    "#Age Demographics\n",
    "#Create the age bins  broken into bins of 4 years(use pd.cut())\n",
    "#Number and percentage by age group\n",
    "#Optional: round % col to 2 decimal places\n",
    "#Create summary DF  \n",
    "age_bins = [0, 9.9, 14.9, 19.9, 24.9, 29.9, 34.9, 39.9, 45]\n",
    "group_names = [\"<10\", \"10-14\", \"15-19\", \"20-24\", \"25-29\", \"30-34\", \"35-39\", \"40+\"]\n",
    "purchase_data[\"Age Group\"]=pd.cut(purchase_data[\"Age\"], age_bins, labels=group_names)\n",
    "purchase_data\n",
    "agegroup_count=purchase_data.groupby(\"Age Group\") #THIS IS NEW DF\n",
    "agegroup_total=agegroup_count[\"SN\"].nunique()\n",
    "agegroup_perct = (agegroup_total/player_count) *100\n",
    "agegroup_perct_df=pd.DataFrame({\"Total Count\" : agegroup_total , \n",
    "                               \"Percentage of Players\" : agegroup_perct})\n",
    "agegroup_perct_df[\"Percentage of Players\"]=agegroup_perct_df[\"Percentage of Players\"].map(\"{:.2f}%\".format)\n",
    "agegroup_perct_df"
   ]
  },
  {
   "cell_type": "markdown",
   "metadata": {},
   "source": [
    "# Purchasing Analysis: Age"
   ]
  },
  {
   "cell_type": "code",
   "execution_count": 130,
   "metadata": {},
   "outputs": [
    {
     "data": {
      "text/html": [
       "<div>\n",
       "<style scoped>\n",
       "    .dataframe tbody tr th:only-of-type {\n",
       "        vertical-align: middle;\n",
       "    }\n",
       "\n",
       "    .dataframe tbody tr th {\n",
       "        vertical-align: top;\n",
       "    }\n",
       "\n",
       "    .dataframe thead th {\n",
       "        text-align: right;\n",
       "    }\n",
       "</style>\n",
       "<table border=\"1\" class=\"dataframe\">\n",
       "  <thead>\n",
       "    <tr style=\"text-align: right;\">\n",
       "      <th></th>\n",
       "      <th>Purchase Count</th>\n",
       "      <th>Avg. Purchase Price</th>\n",
       "      <th>Total Purchase Value</th>\n",
       "      <th>Avg. Total Purchase Per Person</th>\n",
       "    </tr>\n",
       "    <tr>\n",
       "      <th>Age Group</th>\n",
       "      <th></th>\n",
       "      <th></th>\n",
       "      <th></th>\n",
       "      <th></th>\n",
       "    </tr>\n",
       "  </thead>\n",
       "  <tbody>\n",
       "    <tr>\n",
       "      <th>&lt;10</th>\n",
       "      <td>23</td>\n",
       "      <td>$3.35</td>\n",
       "      <td>$77.13</td>\n",
       "      <td>$4.54</td>\n",
       "    </tr>\n",
       "    <tr>\n",
       "      <th>10-14</th>\n",
       "      <td>28</td>\n",
       "      <td>$2.96</td>\n",
       "      <td>$82.78</td>\n",
       "      <td>$3.76</td>\n",
       "    </tr>\n",
       "    <tr>\n",
       "      <th>15-19</th>\n",
       "      <td>136</td>\n",
       "      <td>$3.04</td>\n",
       "      <td>$412.89</td>\n",
       "      <td>$3.86</td>\n",
       "    </tr>\n",
       "    <tr>\n",
       "      <th>20-24</th>\n",
       "      <td>365</td>\n",
       "      <td>$3.05</td>\n",
       "      <td>$1,114.06</td>\n",
       "      <td>$4.32</td>\n",
       "    </tr>\n",
       "    <tr>\n",
       "      <th>25-29</th>\n",
       "      <td>101</td>\n",
       "      <td>$2.90</td>\n",
       "      <td>$293.00</td>\n",
       "      <td>$3.81</td>\n",
       "    </tr>\n",
       "    <tr>\n",
       "      <th>30-34</th>\n",
       "      <td>73</td>\n",
       "      <td>$2.93</td>\n",
       "      <td>$214.00</td>\n",
       "      <td>$4.12</td>\n",
       "    </tr>\n",
       "    <tr>\n",
       "      <th>35-39</th>\n",
       "      <td>41</td>\n",
       "      <td>$3.60</td>\n",
       "      <td>$147.67</td>\n",
       "      <td>$4.76</td>\n",
       "    </tr>\n",
       "    <tr>\n",
       "      <th>40+</th>\n",
       "      <td>13</td>\n",
       "      <td>$2.94</td>\n",
       "      <td>$38.24</td>\n",
       "      <td>$3.19</td>\n",
       "    </tr>\n",
       "  </tbody>\n",
       "</table>\n",
       "</div>"
      ],
      "text/plain": [
       "           Purchase Count Avg. Purchase Price Total Purchase Value  \\\n",
       "Age Group                                                            \n",
       "<10                    23               $3.35               $77.13   \n",
       "10-14                  28               $2.96               $82.78   \n",
       "15-19                 136               $3.04              $412.89   \n",
       "20-24                 365               $3.05            $1,114.06   \n",
       "25-29                 101               $2.90              $293.00   \n",
       "30-34                  73               $2.93              $214.00   \n",
       "35-39                  41               $3.60              $147.67   \n",
       "40+                    13               $2.94               $38.24   \n",
       "\n",
       "          Avg. Total Purchase Per Person  \n",
       "Age Group                                 \n",
       "<10                                $4.54  \n",
       "10-14                              $3.76  \n",
       "15-19                              $3.86  \n",
       "20-24                              $4.32  \n",
       "25-29                              $3.81  \n",
       "30-34                              $4.12  \n",
       "35-39                              $4.76  \n",
       "40+                                $3.19  "
      ]
     },
     "execution_count": 130,
     "metadata": {},
     "output_type": "execute_result"
    }
   ],
   "source": [
    "#The below by age group\n",
    "    #Purchase Count\n",
    "    #Average Purchase Price\n",
    "    #Total Purchase Value\n",
    "    #Average Purchase Total per Person by Age Group\n",
    "    #Create summary DF \n",
    "paa_purchase_count = agegroup_count[\"Purchase ID\"].count()\n",
    "paa_avgpurch = agegroup_count[\"Price\"].mean()\n",
    "paa_totalrev=agegroup_count[\"Price\"].sum()\n",
    "paa_avgtotal=paa_totalrev/agegroup_total\n",
    "\n",
    "paa_summary_df = pd.DataFrame({\"Purchase Count\" : paa_purchase_count, \n",
    "                              \"Avg. Purchase Price\" : paa_avgpurch, \n",
    "                              \"Total Purchase Value\" : paa_totalrev, \n",
    "                              \"Avg. Total Purchase Per Person\" : paa_avgtotal})\n",
    "\n",
    "paa_summary_df[\"Avg. Purchase Price\"]=paa_summary_df[\"Avg. Purchase Price\"].map(\"${:,.2f}\".format)\n",
    "paa_summary_df[\"Total Purchase Value\"]=paa_summary_df[\"Total Purchase Value\"].map(\"${:,.2f}\".format)\n",
    "paa_summary_df[\"Avg. Total Purchase Per Person\"]=paa_summary_df[\"Avg. Total Purchase Per Person\"].map(\"${:,.2f}\".format)\n",
    "paa_summary_df.sort_values(by=\"Age Group\", ascending = True)\n"
   ]
  },
  {
   "cell_type": "markdown",
   "metadata": {},
   "source": [
    "# Top Spenders"
   ]
  },
  {
   "cell_type": "code",
   "execution_count": null,
   "metadata": {},
   "outputs": [],
   "source": [
    "#Top Spenders\n",
    "#Identify the the top 5 spenders in the game by total purchase value, then list (in a table):\n",
    "    #SN\n",
    "    #Purchase Count\n",
    "    #Average Purchase Price\n",
    "    #Total Purchase Value\n",
    "    #Optional: better formatting\n",
    "    #Create summary DF "
   ]
  },
  {
   "cell_type": "markdown",
   "metadata": {},
   "source": [
    "# Most Popular Items"
   ]
  },
  {
   "cell_type": "code",
   "execution_count": null,
   "metadata": {},
   "outputs": [],
   "source": [
    "#Most Popular Items\n",
    "#Identify the 5 most popular items by purchase count, then list (in a table):\n",
    "    #Item ID\n",
    "    #Item Name\n",
    "    #Purchase Count\n",
    "    #Item Price\n",
    "    #Total Purchase Value\n",
    "  #Create summary DF "
   ]
  },
  {
   "cell_type": "markdown",
   "metadata": {},
   "source": [
    "#Most Profitable Items"
   ]
  },
  {
   "cell_type": "code",
   "execution_count": null,
   "metadata": {},
   "outputs": [],
   "source": [
    "#Most Profitable Items\n",
    "#Identify the 5 most profitable items by total purchase value, then list (in a table):\n",
    "    #Item ID\n",
    "    #Item Name\n",
    "    #Purchase Count\n",
    "    #Item Price\n",
    "    #Total Purchase Value"
   ]
  }
 ],
 "metadata": {
  "kernelspec": {
   "display_name": "Python 3",
   "language": "python",
   "name": "python3"
  },
  "language_info": {
   "codemirror_mode": {
    "name": "ipython",
    "version": 3
   },
   "file_extension": ".py",
   "mimetype": "text/x-python",
   "name": "python",
   "nbconvert_exporter": "python",
   "pygments_lexer": "ipython3",
   "version": "3.8.5"
  }
 },
 "nbformat": 4,
 "nbformat_minor": 4
}
