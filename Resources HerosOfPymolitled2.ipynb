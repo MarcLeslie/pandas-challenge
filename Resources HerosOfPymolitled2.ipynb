{
 "cells": [
  {
   "cell_type": "code",
   "execution_count": 15,
   "metadata": {},
   "outputs": [],
   "source": [
    "# Dependencies and Setup\n",
    "import pandas as pd"
   ]
  },
  {
   "cell_type": "code",
   "execution_count": 16,
   "metadata": {},
   "outputs": [],
   "source": [
    "# File to Load (Remember to Change These)\n",
    "file_to_load = \"C:\\\\Users\\\\USER\\\\Desktop\\\\pandas-challenge\\\\Resources HerosOfPymoli\\\\04-Pandas_Homework_Instructions_HeroesOfPymoli_Resources_purchase_data.csv\""
   ]
  },
  {
   "cell_type": "code",
   "execution_count": 17,
   "metadata": {},
   "outputs": [],
   "source": [
    "# Read Purchasing File and store into Pandas data frame\n",
    "purchase_data = pd.read_csv(file_to_load)"
   ]
  },
  {
   "cell_type": "markdown",
   "metadata": {},
   "source": [
    "# Player Count"
   ]
  },
  {
   "cell_type": "code",
   "execution_count": 20,
   "metadata": {},
   "outputs": [
    {
     "data": {
      "text/html": [
       "<div>\n",
       "<style scoped>\n",
       "    .dataframe tbody tr th:only-of-type {\n",
       "        vertical-align: middle;\n",
       "    }\n",
       "\n",
       "    .dataframe tbody tr th {\n",
       "        vertical-align: top;\n",
       "    }\n",
       "\n",
       "    .dataframe thead th {\n",
       "        text-align: right;\n",
       "    }\n",
       "</style>\n",
       "<table border=\"1\" class=\"dataframe\">\n",
       "  <thead>\n",
       "    <tr style=\"text-align: right;\">\n",
       "      <th></th>\n",
       "      <th>Player Count</th>\n",
       "    </tr>\n",
       "  </thead>\n",
       "  <tbody>\n",
       "    <tr>\n",
       "      <th>0</th>\n",
       "      <td>576</td>\n",
       "    </tr>\n",
       "  </tbody>\n",
       "</table>\n",
       "</div>"
      ],
      "text/plain": [
       "   Player Count\n",
       "0           576"
      ]
     },
     "execution_count": 20,
     "metadata": {},
     "output_type": "execute_result"
    }
   ],
   "source": [
    "# Count total Number of Players should be 780\n",
    "#Create summary DF \n",
    "#purchase_data = pd.DataFrame DON'T DO THIS TWICE\n",
    "#YOU HAVE TO DO BELOW STEP EVERY TIME\n",
    "player_count=purchase_data[\"SN\"].nunique()\n",
    "player_count_df = pd.DataFrame({\"Player Count\" : [player_count]})\n",
    "player_count_df"
   ]
  },
  {
   "cell_type": "markdown",
   "metadata": {},
   "source": [
    "# Purchasing Analysis (Total)"
   ]
  },
  {
   "cell_type": "code",
   "execution_count": 44,
   "metadata": {},
   "outputs": [
    {
     "data": {
      "text/html": [
       "<div>\n",
       "<style scoped>\n",
       "    .dataframe tbody tr th:only-of-type {\n",
       "        vertical-align: middle;\n",
       "    }\n",
       "\n",
       "    .dataframe tbody tr th {\n",
       "        vertical-align: top;\n",
       "    }\n",
       "\n",
       "    .dataframe thead th {\n",
       "        text-align: right;\n",
       "    }\n",
       "</style>\n",
       "<table border=\"1\" class=\"dataframe\">\n",
       "  <thead>\n",
       "    <tr style=\"text-align: right;\">\n",
       "      <th></th>\n",
       "      <th>Num. Unique Items</th>\n",
       "      <th>Avg. Purchase Price</th>\n",
       "      <th>Total Num. Purchases</th>\n",
       "      <th>Total Revenue</th>\n",
       "    </tr>\n",
       "  </thead>\n",
       "  <tbody>\n",
       "    <tr>\n",
       "      <th>0</th>\n",
       "      <td>179</td>\n",
       "      <td>3.050987</td>\n",
       "      <td>780</td>\n",
       "      <td>2379.77</td>\n",
       "    </tr>\n",
       "  </tbody>\n",
       "</table>\n",
       "</div>"
      ],
      "text/plain": [
       "   Num. Unique Items  Avg. Purchase Price  Total Num. Purchases  Total Revenue\n",
       "0                179             3.050987                   780        2379.77"
      ]
     },
     "execution_count": 44,
     "metadata": {},
     "output_type": "execute_result"
    }
   ],
   "source": [
    "#Purchasing Analysis (Total): \n",
    "#Number of Unique Items should be 179\n",
    "#Average Purchase Price should be 3.05\n",
    "#Total Number of Purchases should be 780\n",
    "#Total Revenue should be 2379.77\n",
    "#Create summary DF \n",
    "pat_numunique=purchase_data[\"Item ID\"].nunique()\n",
    "pat_avgpurch=purchase_data[\"Price\"].mean()\n",
    "pat_totalnumpurch=purchase_data[\"Purchase ID\"].count()\n",
    "pat_totalrev=purchase_data[\"Price\"].sum()\n",
    "pat_summary_df = pd.DataFrame({\"Num. Unique Items\" : [pat_numunique],\n",
    "                           \"Avg. Purchase Price\" : [pat_avgpurch], \n",
    "                           \"Total Num. Purchases\" : [pat_totalnumpurch],\n",
    "                           \"Total Revenue\" : [pat_totalrev]})\n",
    "\n",
    "pat_summary_df.style.format({'Avg. Purchase Price' : \"${:.2f}\",\n",
    "                             'Total Revenue' : \"${:.2f}\"})\n",
    "\n",
    "####WHY DO I HAVE TO USE BRACKETS FOR THIS DF?####\n",
    "####WHY IS THIS FORMAT NOT WORKING?####\n",
    "\n",
    "pat_summary_df"
   ]
  },
  {
   "cell_type": "markdown",
   "metadata": {},
   "source": [
    "# Gender Demographics"
   ]
  },
  {
   "cell_type": "code",
   "execution_count": 46,
   "metadata": {},
   "outputs": [
    {
     "data": {
      "text/html": [
       "<div>\n",
       "<style scoped>\n",
       "    .dataframe tbody tr th:only-of-type {\n",
       "        vertical-align: middle;\n",
       "    }\n",
       "\n",
       "    .dataframe tbody tr th {\n",
       "        vertical-align: top;\n",
       "    }\n",
       "\n",
       "    .dataframe thead th {\n",
       "        text-align: right;\n",
       "    }\n",
       "</style>\n",
       "<table border=\"1\" class=\"dataframe\">\n",
       "  <thead>\n",
       "    <tr style=\"text-align: right;\">\n",
       "      <th></th>\n",
       "      <th>Total Count</th>\n",
       "      <th>Perct. Players</th>\n",
       "    </tr>\n",
       "  </thead>\n",
       "  <tbody>\n",
       "    <tr>\n",
       "      <th>Female</th>\n",
       "      <td>81</td>\n",
       "      <td>14.062500</td>\n",
       "    </tr>\n",
       "    <tr>\n",
       "      <th>Male</th>\n",
       "      <td>484</td>\n",
       "      <td>84.027778</td>\n",
       "    </tr>\n",
       "    <tr>\n",
       "      <th>Other / Non-Disclosed</th>\n",
       "      <td>11</td>\n",
       "      <td>1.909722</td>\n",
       "    </tr>\n",
       "  </tbody>\n",
       "</table>\n",
       "</div>"
      ],
      "text/plain": [
       "                       Total Count  Perct. Players\n",
       "Female                          81       14.062500\n",
       "Male                           484       84.027778\n",
       "Other / Non-Disclosed           11        1.909722"
      ]
     },
     "execution_count": 46,
     "metadata": {},
     "output_type": "execute_result"
    }
   ],
   "source": [
    "#Gender Demographics\n",
    "#Percentage and Count of Male Players YOU HAVE TO COUNT UNIQUE # MALE PLAYERS - COMBINE SN (unique ID) and GENDER!\n",
    "#SHOULD BE males 484 (84.02%), females 81 (14.06%), other 11 (1.90%)\n",
    "#Percentage and Count of Female Players\n",
    "#Percentage and Count of Other / Non-Disclosed\n",
    "#Create summary DF \n",
    "gd_gender=purchase_data.groupby(\"Gender\")\n",
    "gd_gender_count=gd_gender[\"SN\"].nunique()\n",
    "gd_pct_players=gd_gender_count/player_count *100\n",
    "gd_summary_df = pd.DataFrame({\"Total Count\" : gd_gender_count, \n",
    "                             \"Perct. Players\" : gd_pct_players})\n",
    "gd_summary_df.index.name = None\n",
    "gd_summary_df.style.format({\"Perct. Players\" : \"{:.2f}%\"})\n",
    "\n",
    "####WHY DO I HAVE TO NOT USE BRACKETS FOR THIS DF?####\n",
    "####WHY IS FORMAT NOT WORKING FOR % OR ASCENDING?###\n",
    "\n",
    "gd_summary_df.sort_values([\"Total Count\"], ascending = False)\n",
    "gd_summary_df"
   ]
  },
  {
   "cell_type": "markdown",
   "metadata": {},
   "source": [
    "# Purchasing Analysis (Gender)"
   ]
  },
  {
   "cell_type": "code",
   "execution_count": 39,
   "metadata": {},
   "outputs": [
    {
     "data": {
      "text/plain": [
       "Female                   4.468395\n",
       "Male                     4.065372\n",
       "Other / Non-Disclosed    4.562727\n",
       "dtype: float64"
      ]
     },
     "execution_count": 39,
     "metadata": {},
     "output_type": "execute_result"
    }
   ],
   "source": [
    "#Purchasing Analysis (Gender):\n",
    "#The below each broken by gender:\n",
    "    #Purchase Count (should be male 652, female 113, other 15)\n",
    "    #Average Purchase Price (should be male 3.20, female 3.17, other 3.35)\n",
    "    #Total Purchase Value (should be male 1967.64, female 361.94, other 50.19)\n",
    "    #Average Purchase Total per Person by Gender (should be male 4.07, female 4.47, other 4.56)\n",
    "    #Create summary DF \n",
    "pag_purchase_count = gd_gender[\"Purchase ID\"].count()\n",
    "pag_avgpurch = gd_gender[\"Price\"].mean()\n",
    "pag_totalrev=gd_gender[\"Price\"].sum()\n",
    "pag_avgtotal=pag_totalrev/gd_gender_count\n",
    "pag_summary_df = pd.DataFrame({\"Purchase Count\" : })\n"
   ]
  },
  {
   "cell_type": "markdown",
   "metadata": {},
   "source": [
    "# Age Demographics"
   ]
  },
  {
   "cell_type": "code",
   "execution_count": null,
   "metadata": {},
   "outputs": [],
   "source": [
    "#Age Demographics\n",
    "#Create the age bins  broken into bins of 4 years (i.e. <10, 10-14, 15-19, etc.) (hint: use pd.cut()\n",
    "#Number and percentage by age group\n",
    "#Optional: round % col to 2 decimal places\n",
    "#Create summary DF "
   ]
  },
  {
   "cell_type": "markdown",
   "metadata": {},
   "source": [
    "# Purchasing Analysis: Age"
   ]
  },
  {
   "cell_type": "code",
   "execution_count": null,
   "metadata": {},
   "outputs": [],
   "source": [
    "#The below each broken into bins of 4 years (i.e. <10, 10-14, 15-19, etc.):\n",
    "    #Purchase Count\n",
    "    #Average Purchase Price\n",
    "    #Total Purchase Value\n",
    "    #Average Purchase Total per Person by Age Group\n",
    "    #Create summary DF "
   ]
  },
  {
   "cell_type": "markdown",
   "metadata": {},
   "source": [
    "# Top Spenders"
   ]
  },
  {
   "cell_type": "code",
   "execution_count": null,
   "metadata": {},
   "outputs": [],
   "source": [
    "#Top Spenders\n",
    "#Identify the the top 5 spenders in the game by total purchase value, then list (in a table):\n",
    "    #SN\n",
    "    #Purchase Count\n",
    "    #Average Purchase Price\n",
    "    #Total Purchase Value\n",
    "    #Optional: better formatting\n",
    "    #Create summary DF "
   ]
  },
  {
   "cell_type": "markdown",
   "metadata": {},
   "source": [
    "# Most Popular Items"
   ]
  },
  {
   "cell_type": "code",
   "execution_count": null,
   "metadata": {},
   "outputs": [],
   "source": [
    "#Most Popular Items\n",
    "#Identify the 5 most popular items by purchase count, then list (in a table):\n",
    "    #Item ID\n",
    "    #Item Name\n",
    "    #Purchase Count\n",
    "    #Item Price\n",
    "    #Total Purchase Value\n",
    "  #Create summary DF "
   ]
  },
  {
   "cell_type": "markdown",
   "metadata": {},
   "source": [
    "#Most Profitable Items"
   ]
  },
  {
   "cell_type": "code",
   "execution_count": null,
   "metadata": {},
   "outputs": [],
   "source": [
    "#Most Profitable Items\n",
    "#Identify the 5 most profitable items by total purchase value, then list (in a table):\n",
    "    #Item ID\n",
    "    #Item Name\n",
    "    #Purchase Count\n",
    "    #Item Price\n",
    "    #Total Purchase Value"
   ]
  }
 ],
 "metadata": {
  "kernelspec": {
   "display_name": "Python 3",
   "language": "python",
   "name": "python3"
  },
  "language_info": {
   "codemirror_mode": {
    "name": "ipython",
    "version": 3
   },
   "file_extension": ".py",
   "mimetype": "text/x-python",
   "name": "python",
   "nbconvert_exporter": "python",
   "pygments_lexer": "ipython3",
   "version": "3.8.5"
  }
 },
 "nbformat": 4,
 "nbformat_minor": 4
}
